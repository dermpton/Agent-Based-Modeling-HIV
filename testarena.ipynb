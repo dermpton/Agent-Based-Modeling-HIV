{
 "cells": [
  {
   "cell_type": "markdown",
   "id": "0290249c-b94c-4026-a163-c98fdd7afdc9",
   "metadata": {},
   "source": [
    "# A simple agent based infection model with Mesa and Bokeh\n",
    "\n",
    "This shall serve the purpose of educating and leveraging mesa + agm with a project based approach<br>\n",
    "refs: <a>https://dmnfarrell.github.io/bioinformatics/abm-mesa-python</a>"
   ]
  },
  {
   "cell_type": "code",
   "execution_count": 7,
   "id": "6ad1361b-8671-4b19-8dd0-03e974e19bcb",
   "metadata": {
    "tags": []
   },
   "outputs": [],
   "source": [
    "import time\n",
    "import numpy as np\n",
    "from enum import IntEnum\n",
    "import pandas as pd\n",
    "import collections\n",
    "import pandas as pd\n",
    "import pylab as plt  # Watch out here\n",
    "from mesa import Agent, Model\n",
    "from mesa.time import RandomActivation\n",
    "from mesa.space import MultiGrid\n",
    "from mesa.datacollection import DataCollector\n"
   ]
  },
  {
   "cell_type": "markdown",
   "id": "dd60a0ee-1f7c-49d9-89f0-dc3732b5242f",
   "metadata": {
    "tags": []
   },
   "source": [
    "### Building a simple model\n",
    "<br>\n",
    "The main idea with Mesa is to create two classes, one for the model and the other for the agents. The agent handles the behavior of the individual being simulated such as how it can infect neighbors in a grid or network. The model holds all the general parameters, a grid object for moving agents on and it also creates and tracks it's agents. It's really much more instructive to go through an example than describe. This code was made mostly using the Mesa tutorial on Virus on network example.<br><br>\n",
    "We first make a Model class defining a grid, scheduler for tracking the order of agents being activated in time. Time periods are represented as steps and the agents can all move once in each step. The the agents will decide if it can infect another according to where it is. The DataCollector class keeps track of agent information through the simulation. The grid is a MultiGrid class, which let more than one agent occupy a cell at once."
   ]
  },
  {
   "cell_type": "code",
   "execution_count": 9,
   "id": "7038b22b-7479-40e7-a6b8-d71a5fe228d0",
   "metadata": {},
   "outputs": [],
   "source": [
    "class InfectionModel(Model):\n",
    "    '''A model for infection spread.'''\n",
    "    def __init__(self, N = 10, width = 10, height = 10, ptrans = 0.5, death_rate = 0.02, recovery_days = 21, recovery_sd = 7):\n",
    "        self.num_agents = N\n",
    "        self.recovery_days = recovery_days\n",
    "        self.recovery_sd = recovery_sd\n",
    "        self.ptrans = ptrans\n",
    "        self.death_rate = death_rate\n",
    "        self.grid = MultiGrid(width, height, True)\n",
    "        self.schedule = RandomActivation(self)\n",
    "        self.running = True\n",
    "        self.dead_agents = []\n",
    "        # Create agents\n",
    "        for i in range(self.num_agents):\n",
    "            a = MyAgent(i, self)\n",
    "            self.schedule.add(a)\n",
    "            # Add the agent to a random grid cell\n",
    "            x = self.random.randrange(self.grid.width)\n",
    "            y = self.rand.randrange(self.grid.height)\n",
    "            self.grid.place_agent(a, (x, y))\n",
    "            # Make some agents infected at start\n",
    "            infected = np.random.choice([0, 1], p = [0.98, 0.02])\n",
    "            if infected == 1:\n",
    "                a.state = State.INFECTED\n",
    "                a.recovery_time = self.get_recovery_time()\n",
    "\n",
    "        self.datacollector = DataCollector(\n",
    "            agent_reporters={\"State\": \"state\"})\n",
    "\n",
    "    def get_recovery_time(self):\n",
    "        return int(self.random.normalvariate(self.recovery, self.recovery_sd))\n",
    "    \n",
    "    def step(self):\n",
    "        self.datacollector.collect(self)\n",
    "        self.schedule.step()\n",
    "    "
   ]
  },
  {
   "cell_type": "markdown",
   "id": "b5d22c0c-6996-41d8-b595-7cddd516c880",
   "metadata": {},
   "source": [
    "We then create the Agent class. It has three possible states and transitions between them through the simulation. At each step the agent will move and then can carry out any operation such as infecting another agent in the same cell in the grid if the other agent is susceptible. The agent can also recover over time."
   ]
  },
  {
   "cell_type": "code",
   "execution_count": 8,
   "id": "b2a27a32-4977-4788-a523-5c4fc064490a",
   "metadata": {
    "tags": []
   },
   "outputs": [],
   "source": [
    "class State(IntEnum):\n",
    "    SUSCEPTIBLE = 0 \n",
    "    INFECTED = 1\n",
    "    REMOVED = 2\n",
    "    \n",
    "    \n",
    "class MyAgent(Agent):\n",
    "    '''An agent in an epidemic model.'''\n",
    "    def __init__(self, unique_id, model):\n",
    "        super().__init__(unique_id, model)\n",
    "        self.age = self.random.normalvariate(20, 40)\n",
    "        self.state = State.SUSCEPTIBLE\n",
    "        self.infection_time = 0\n",
    "        \n",
    "        \n",
    "    def move(self):\n",
    "        '''Move the agent.'''\n",
    "        \n",
    "        possible_steps = self.model.grid.get_neighborhood(\n",
    "            self.pos,\n",
    "            moore=True,\n",
    "            include_center = False)\n",
    "        \n",
    "        new_position = self.random.choice(possible_steps)\n",
    "        self.model.grid.move_agent(self, new_position)\n",
    "    \n",
    "    \n",
    "    def status(self):\n",
    "        '''Check infection status.'''\n",
    "        \n",
    "        if self.state == State.INFECTED:\n",
    "            drate = self.model.death_rate\n",
    "            alive = np.random.choice([0,1], p=[drate, 1-drate])\n",
    "            if alive == 0:\n",
    "                self.model.schedule.remove(self)\n",
    "            t = self.model.schedule.time - self.infection_time\n",
    "            if t >= self.recovery_time:\n",
    "                self.state = State.REMOVED\n",
    "                \n",
    "    \n",
    "    def contact(self):\n",
    "        '''Find close contacts and infect.'''\n",
    "        \n",
    "        cellmates = self.model.grid.get_cell_list_contents([self.pos])\n",
    "        if len(cellmates) > 1:\n",
    "            for other in cellmates:\n",
    "                if self.random.random() > model.ptrans:\n",
    "                    continue\n",
    "                if self.state is State.INFECTED and other.state is State.SUSCEPTIBLE:\n",
    "                    other.state = State.INFECTED\n",
    "                    other.infection_time = self.model.schedule.time\n",
    "                    other.recovery_time = model.get_recovery_time()\n",
    "                    \n",
    "    def stop(self):\n",
    "        self.status()\n",
    "        self.move()\n",
    "        self.contact()\n",
    "        "
   ]
  },
  {
   "cell_type": "markdown",
   "id": "f343bde8-c142-436a-8f34-c7152fe81063",
   "metadata": {},
   "source": [
    "### Run the model\n",
    "We can now run the model by simply iterating over the number of steps we want. The DataCollector object has stored agent variables along the way and this can be analysed to get model results. get_agent_vars_dataframe() returns a pandas DataFrame in long form of the state of each agent at each step."
   ]
  },
  {
   "cell_type": "code",
   "execution_count": null,
   "id": "9c5bee83-582a-446a-b560-55c17811e7e3",
   "metadata": {},
   "outputs": [],
   "source": []
  }
 ],
 "metadata": {
  "kernelspec": {
   "display_name": "Python (swordfish)",
   "language": "python",
   "name": "swordfish"
  },
  "language_info": {
   "codemirror_mode": {
    "name": "ipython",
    "version": 3
   },
   "file_extension": ".py",
   "mimetype": "text/x-python",
   "name": "python",
   "nbconvert_exporter": "python",
   "pygments_lexer": "ipython3",
   "version": "3.9.21"
  }
 },
 "nbformat": 4,
 "nbformat_minor": 5
}
