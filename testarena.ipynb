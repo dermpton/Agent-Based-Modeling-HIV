{
 "cells": [
  {
   "cell_type": "markdown",
   "id": "0290249c-b94c-4026-a163-c98fdd7afdc9",
   "metadata": {},
   "source": [
    "# A simple agent based infection model with Mesa and Bokeh\n",
    "\n",
    "This shall serve the purpose of educating and leveraging mesa + agm with a project based approach<br>\n",
    "refs: <a>https://dmnfarrell.github.io/bioinformatics/abm-mesa-python</a>"
   ]
  },
  {
   "cell_type": "code",
   "execution_count": 2,
   "id": "6ad1361b-8671-4b19-8dd0-03e974e19bcb",
   "metadata": {
    "tags": []
   },
   "outputs": [],
   "source": [
    "import time\n",
    "import numpy as np\n",
    "from enum import IntEnum\n",
    "import pandas as pd\n",
    "import collections\n",
    "import pandas as pd\n",
    "import pylab as plt  # Watch out here\n",
    "from mesa.model import Model\n",
    "from mesa.agent import Agent\n",
    "from mesa.time import RandomActivation\n",
    "from mesa.space import MultiGrid\n",
    "from mesa.datacollection import DataCollector\n"
   ]
  },
  {
   "cell_type": "markdown",
   "id": "dd60a0ee-1f7c-49d9-89f0-dc3732b5242f",
   "metadata": {
    "tags": []
   },
   "source": [
    "### Building a simple model\n",
    "<br>\n",
    "The main idea with Mesa is to create two classes, one for the model and the other for the agents. The agent handles the behavior of the individual being simulated such as how it can infect neighbors in a grid or network. The model holds all the general parameters, a grid object for moving agents on and it also creates and tracks it's agents. It's really much more instructive to go through an example than describe. This code was made mostly using the Mesa tutorial on Virus on network example.<br><br>\n",
    "We first make a Model class defining a grid, scheduler for tracking the order of agents being activated in time. Time periods are represented as steps and the agents can all move once in each step. The the agents will decide if it can infect another according to where it is. The DataCollector class keeps track of agent information through the simulation. The grid is a MultiGrid class, which let more than one agent occupy a cell at once."
   ]
  },
  {
   "cell_type": "code",
   "execution_count": 6,
   "id": "7038b22b-7479-40e7-a6b8-d71a5fe228d0",
   "metadata": {},
   "outputs": [],
   "source": [
    "class InfectionModel(Model):\n",
    "    '''A model for infection spread.'''\n",
    "    def __init__(self, N = 10, width = 10, height = 10, ptrans = 0.5, death_rate = 0.02, recovery_days = 21, recovery_sd = 7):\n",
    "        self.num_agents = N\n",
    "        self.recovery_days = recovery_days\n",
    "        self.recovery_sd = recovery_sd\n",
    "        self.ptrans = ptrans\n",
    "        self.death_rate = death_rate\n",
    "        self.grid = MultiGrid(width, height, True)\n",
    "        self.schedule = RandomActivation(self)\n",
    "        self.running = True\n",
    "        self.dead_agents = []\n",
    "        # Create agents\n",
    "        for i in range(self.num_agents):\n",
    "            a = MyAgent(i, self)\n",
    "            self.schedule.add(a)\n",
    "            # Add the agent to a random grid cell\n",
    "            x = self.random.randrange(self.grid.width)\n",
    "            y = self.random.randrange(self.grid.height)\n",
    "            self.grid.place_agent(a, (x, y))\n",
    "            # Make some agents infected at start\n",
    "            infected = np.random.choice([0, 1], p = [0.98, 0.02])\n",
    "            if infected == 1:\n",
    "                a.state = State.INFECTED\n",
    "                a.recovery_time = self.get_recovery_time()\n",
    "\n",
    "        self.datacollector = DataCollector(\n",
    "            agent_reporters={\"State\": \"state\"})\n",
    "\n",
    "    def get_recovery_time(self):\n",
    "        return int(self.random.normalvariate(self.recovery_days, self.recovery_sd))\n",
    "    \n",
    "    def step(self):\n",
    "        self.datacollector.collect(self)\n",
    "        self.schedule.step()\n",
    "    "
   ]
  },
  {
   "cell_type": "markdown",
   "id": "b5d22c0c-6996-41d8-b595-7cddd516c880",
   "metadata": {},
   "source": [
    "We then create the Agent class. It has three possible states and transitions between them through the simulation. At each step the agent will move and then can carry out any operation such as infecting another agent in the same cell in the grid if the other agent is susceptible. The agent can also recover over time."
   ]
  },
  {
   "cell_type": "code",
   "execution_count": 3,
   "id": "b2a27a32-4977-4788-a523-5c4fc064490a",
   "metadata": {
    "tags": []
   },
   "outputs": [],
   "source": [
    "class State(IntEnum):\n",
    "    SUSCEPTIBLE = 0\n",
    "    INFECTED    = 1\n",
    "    RECOVERED   = 2\n",
    "    # DEAD        = 3\n",
    "\n",
    "\n",
    "class MyAgent(Agent):\n",
    "    '''An agent in an epidemic model.'''\n",
    "    def __init__(self, unique_id, model):\n",
    "        super().__init__(unique_id, model)\n",
    "        # Draw age but avoid negatives\n",
    "        age = self.random.normalvariate(20, 40)\n",
    "        self.age = max(0, age)\n",
    "\n",
    "        self.state = State.SUSCEPTIBLE\n",
    "        self.infection_time = None\n",
    "        self.recovery_time = None\n",
    "\n",
    "    def step(self):\n",
    "        if self.state == State.INFECTED:\n",
    "            self._handle_disease_progression()\n",
    "        if self.state == State.INFECTED:\n",
    "            self.contact()     # only infected agents infect others\n",
    "        if self.state in (State.SUSCEPTIBLE, State.INFECTED):\n",
    "            self.move()        # dead/removed don’t move\n",
    "\n",
    "    def _handle_disease_progression(self):\n",
    "        # Chance of death\n",
    "        if self.random.random() < self.model.death_rate:\n",
    "            self.state = State.REMOVED  # or define a DEAD state\n",
    "            return\n",
    "\n",
    "        # Check recovery\n",
    "        t = self.model.current_step - self.infection_time\n",
    "        if self.recovery_time is not None and t >= self.recovery_time:\n",
    "            self.state = State.REMOVED\n",
    "\n",
    "    def move(self):\n",
    "        '''Move the agent to a random neighboring cell.'''\n",
    "        neighbors = self.model.grid.get_neighborhood(\n",
    "            self.pos, moore=True, include_center=False\n",
    "        )\n",
    "        new_pos = self.random.choice(neighbors)\n",
    "        self.model.grid.move_agent(self, new_pos)\n",
    "\n",
    "    def contact(self):\n",
    "        '''Attempt to infect susceptible neighbors in the same cell.'''\n",
    "        cellmates = self.model.grid.get_cell_list_contents([self.pos])\n",
    "        for other in cellmates:\n",
    "            if other is self or other.state != State.SUSCEPTIBLE:\n",
    "                continue\n",
    "            if self.random.random() < self.model.ptrans:\n",
    "                other.state = State.INFECTED\n",
    "                other.infection_time = self.model.current_step\n",
    "                other.recovery_time = self.model.get_recovery_time()\n"
   ]
  },
  {
   "cell_type": "markdown",
   "id": "f343bde8-c142-436a-8f34-c7152fe81063",
   "metadata": {},
   "source": [
    "### Run the model\n",
    "We can now run the model by simply iterating over the number of steps we want. The DataCollector object has stored agent variables along the way and this can be analysed to get model results. ```get_agent_vars_dataframe()``` returns a pandas DataFrame in long form of the state of each agent at each step."
   ]
  },
  {
   "cell_type": "code",
   "execution_count": 4,
   "id": "f4bbdf0e-de5e-4799-9484-276f30420c90",
   "metadata": {
    "tags": []
   },
   "outputs": [],
   "source": [
    "pop = 100 \n",
    "width, height = 20, 20 \n",
    "steps = 200"
   ]
  },
  {
   "cell_type": "code",
   "execution_count": 7,
   "id": "53a49687-dfe9-4c11-97aa-0b502cfac57d",
   "metadata": {
    "tags": []
   },
   "outputs": [
    {
     "name": "stderr",
     "output_type": "stream",
     "text": [
      "/opt/miniconda3/envs/swordfish/lib/python3.9/site-packages/mesa/agent.py:52: FutureWarning: The Mesa Model class was not initialized. In the future, you need to explicitly initialize the Model by calling super().__init__() on initialization.\n",
      "  self.model.register_agent(self)\n"
     ]
    },
    {
     "ename": "AttributeError",
     "evalue": "'InfectionModel' object has no attribute 'current_step'",
     "output_type": "error",
     "traceback": [
      "\u001b[0;31m---------------------------------------------------------------------------\u001b[0m",
      "\u001b[0;31mAttributeError\u001b[0m                            Traceback (most recent call last)",
      "Cell \u001b[0;32mIn[7], line 3\u001b[0m\n\u001b[1;32m      1\u001b[0m model \u001b[38;5;241m=\u001b[39m InfectionModel(pop,width,height, ptrans\u001b[38;5;241m=\u001b[39m \u001b[38;5;241m0.5\u001b[39m)\n\u001b[1;32m      2\u001b[0m \u001b[38;5;28;01mfor\u001b[39;00m _ \u001b[38;5;129;01min\u001b[39;00m \u001b[38;5;28mrange\u001b[39m(steps):\n\u001b[0;32m----> 3\u001b[0m     \u001b[43mmodel\u001b[49m\u001b[38;5;241;43m.\u001b[39;49m\u001b[43mstep\u001b[49m\u001b[43m(\u001b[49m\u001b[43m)\u001b[49m\n",
      "Cell \u001b[0;32mIn[6], line 35\u001b[0m, in \u001b[0;36mInfectionModel.step\u001b[0;34m(self)\u001b[0m\n\u001b[1;32m     33\u001b[0m \u001b[38;5;28;01mdef\u001b[39;00m\u001b[38;5;250m \u001b[39m\u001b[38;5;21mstep\u001b[39m(\u001b[38;5;28mself\u001b[39m):\n\u001b[1;32m     34\u001b[0m     \u001b[38;5;28mself\u001b[39m\u001b[38;5;241m.\u001b[39mdatacollector\u001b[38;5;241m.\u001b[39mcollect(\u001b[38;5;28mself\u001b[39m)\n\u001b[0;32m---> 35\u001b[0m     \u001b[38;5;28;43mself\u001b[39;49m\u001b[38;5;241;43m.\u001b[39;49m\u001b[43mschedule\u001b[49m\u001b[38;5;241;43m.\u001b[39;49m\u001b[43mstep\u001b[49m\u001b[43m(\u001b[49m\u001b[43m)\u001b[49m\n",
      "File \u001b[0;32m/opt/miniconda3/envs/swordfish/lib/python3.9/site-packages/mesa/time.py:120\u001b[0m, in \u001b[0;36mBaseScheduler._wrapped_step\u001b[0;34m(self)\u001b[0m\n\u001b[1;32m    118\u001b[0m \u001b[38;5;28;01mdef\u001b[39;00m\u001b[38;5;250m \u001b[39m\u001b[38;5;21m_wrapped_step\u001b[39m(\u001b[38;5;28mself\u001b[39m):\n\u001b[1;32m    119\u001b[0m \u001b[38;5;250m    \u001b[39m\u001b[38;5;124;03m\"\"\"Wrapper for the step method to include time and step updating.\"\"\"\u001b[39;00m\n\u001b[0;32m--> 120\u001b[0m     \u001b[38;5;28;43mself\u001b[39;49m\u001b[38;5;241;43m.\u001b[39;49m\u001b[43m_original_step\u001b[49m\u001b[43m(\u001b[49m\u001b[43m)\u001b[49m\n\u001b[1;32m    121\u001b[0m     \u001b[38;5;28mself\u001b[39m\u001b[38;5;241m.\u001b[39mmodel\u001b[38;5;241m.\u001b[39m_advance_time()\n",
      "File \u001b[0;32m/opt/miniconda3/envs/swordfish/lib/python3.9/site-packages/mesa/time.py:176\u001b[0m, in \u001b[0;36mRandomActivation.step\u001b[0;34m(self)\u001b[0m\n\u001b[1;32m    171\u001b[0m \u001b[38;5;28;01mdef\u001b[39;00m\u001b[38;5;250m \u001b[39m\u001b[38;5;21mstep\u001b[39m(\u001b[38;5;28mself\u001b[39m) \u001b[38;5;241m-\u001b[39m\u001b[38;5;241m>\u001b[39m \u001b[38;5;28;01mNone\u001b[39;00m:\n\u001b[1;32m    172\u001b[0m \u001b[38;5;250m    \u001b[39m\u001b[38;5;124;03m\"\"\"Executes the step of all agents, one at a time, in\u001b[39;00m\n\u001b[1;32m    173\u001b[0m \u001b[38;5;124;03m    random order.\u001b[39;00m\n\u001b[1;32m    174\u001b[0m \n\u001b[1;32m    175\u001b[0m \u001b[38;5;124;03m    \"\"\"\u001b[39;00m\n\u001b[0;32m--> 176\u001b[0m     \u001b[38;5;28;43mself\u001b[39;49m\u001b[38;5;241;43m.\u001b[39;49m\u001b[43mdo_each\u001b[49m\u001b[43m(\u001b[49m\u001b[38;5;124;43m\"\u001b[39;49m\u001b[38;5;124;43mstep\u001b[39;49m\u001b[38;5;124;43m\"\u001b[39;49m\u001b[43m,\u001b[49m\u001b[43m \u001b[49m\u001b[43mshuffle\u001b[49m\u001b[38;5;241;43m=\u001b[39;49m\u001b[38;5;28;43;01mTrue\u001b[39;49;00m\u001b[43m)\u001b[49m\n\u001b[1;32m    177\u001b[0m     \u001b[38;5;28mself\u001b[39m\u001b[38;5;241m.\u001b[39msteps \u001b[38;5;241m+\u001b[39m\u001b[38;5;241m=\u001b[39m \u001b[38;5;241m1\u001b[39m\n\u001b[1;32m    178\u001b[0m     \u001b[38;5;28mself\u001b[39m\u001b[38;5;241m.\u001b[39mtime \u001b[38;5;241m+\u001b[39m\u001b[38;5;241m=\u001b[39m \u001b[38;5;241m1\u001b[39m\n",
      "File \u001b[0;32m/opt/miniconda3/envs/swordfish/lib/python3.9/site-packages/mesa/time.py:152\u001b[0m, in \u001b[0;36mBaseScheduler.do_each\u001b[0;34m(self, method, shuffle)\u001b[0m\n\u001b[1;32m    150\u001b[0m \u001b[38;5;28;01mif\u001b[39;00m shuffle:\n\u001b[1;32m    151\u001b[0m     \u001b[38;5;28mself\u001b[39m\u001b[38;5;241m.\u001b[39m_agents\u001b[38;5;241m.\u001b[39mshuffle(inplace\u001b[38;5;241m=\u001b[39m\u001b[38;5;28;01mTrue\u001b[39;00m)\n\u001b[0;32m--> 152\u001b[0m \u001b[38;5;28;43mself\u001b[39;49m\u001b[38;5;241;43m.\u001b[39;49m\u001b[43m_agents\u001b[49m\u001b[38;5;241;43m.\u001b[39;49m\u001b[43mdo\u001b[49m\u001b[43m(\u001b[49m\u001b[43mmethod\u001b[49m\u001b[43m)\u001b[49m\n",
      "File \u001b[0;32m/opt/miniconda3/envs/swordfish/lib/python3.9/site-packages/mesa/agent.py:269\u001b[0m, in \u001b[0;36mAgentSet.do\u001b[0;34m(self, method, *args, **kwargs)\u001b[0m\n\u001b[1;32m    267\u001b[0m     \u001b[38;5;28;01mfor\u001b[39;00m agentref \u001b[38;5;129;01min\u001b[39;00m \u001b[38;5;28mself\u001b[39m\u001b[38;5;241m.\u001b[39m_agents\u001b[38;5;241m.\u001b[39mkeyrefs():\n\u001b[1;32m    268\u001b[0m         \u001b[38;5;28;01mif\u001b[39;00m (agent \u001b[38;5;241m:=\u001b[39m agentref()) \u001b[38;5;129;01mis\u001b[39;00m \u001b[38;5;129;01mnot\u001b[39;00m \u001b[38;5;28;01mNone\u001b[39;00m:\n\u001b[0;32m--> 269\u001b[0m             \u001b[38;5;28;43mgetattr\u001b[39;49m\u001b[43m(\u001b[49m\u001b[43magent\u001b[49m\u001b[43m,\u001b[49m\u001b[43m \u001b[49m\u001b[43mmethod\u001b[49m\u001b[43m)\u001b[49m\u001b[43m(\u001b[49m\u001b[38;5;241;43m*\u001b[39;49m\u001b[43margs\u001b[49m\u001b[43m,\u001b[49m\u001b[43m \u001b[49m\u001b[38;5;241;43m*\u001b[39;49m\u001b[38;5;241;43m*\u001b[39;49m\u001b[43mkwargs\u001b[49m\u001b[43m)\u001b[49m\n\u001b[1;32m    270\u001b[0m \u001b[38;5;28;01melse\u001b[39;00m:\n\u001b[1;32m    271\u001b[0m     \u001b[38;5;28;01mfor\u001b[39;00m agentref \u001b[38;5;129;01min\u001b[39;00m \u001b[38;5;28mself\u001b[39m\u001b[38;5;241m.\u001b[39m_agents\u001b[38;5;241m.\u001b[39mkeyrefs():\n",
      "Cell \u001b[0;32mIn[3], line 22\u001b[0m, in \u001b[0;36mMyAgent.step\u001b[0;34m(self)\u001b[0m\n\u001b[1;32m     20\u001b[0m \u001b[38;5;28;01mdef\u001b[39;00m\u001b[38;5;250m \u001b[39m\u001b[38;5;21mstep\u001b[39m(\u001b[38;5;28mself\u001b[39m):\n\u001b[1;32m     21\u001b[0m     \u001b[38;5;28;01mif\u001b[39;00m \u001b[38;5;28mself\u001b[39m\u001b[38;5;241m.\u001b[39mstate \u001b[38;5;241m==\u001b[39m State\u001b[38;5;241m.\u001b[39mINFECTED:\n\u001b[0;32m---> 22\u001b[0m         \u001b[38;5;28;43mself\u001b[39;49m\u001b[38;5;241;43m.\u001b[39;49m\u001b[43m_handle_disease_progression\u001b[49m\u001b[43m(\u001b[49m\u001b[43m)\u001b[49m\n\u001b[1;32m     23\u001b[0m     \u001b[38;5;28;01mif\u001b[39;00m \u001b[38;5;28mself\u001b[39m\u001b[38;5;241m.\u001b[39mstate \u001b[38;5;241m==\u001b[39m State\u001b[38;5;241m.\u001b[39mINFECTED:\n\u001b[1;32m     24\u001b[0m         \u001b[38;5;28mself\u001b[39m\u001b[38;5;241m.\u001b[39mcontact()     \u001b[38;5;66;03m# only infected agents infect others\u001b[39;00m\n",
      "Cell \u001b[0;32mIn[3], line 35\u001b[0m, in \u001b[0;36mMyAgent._handle_disease_progression\u001b[0;34m(self)\u001b[0m\n\u001b[1;32m     32\u001b[0m     \u001b[38;5;28;01mreturn\u001b[39;00m\n\u001b[1;32m     34\u001b[0m \u001b[38;5;66;03m# Check recovery\u001b[39;00m\n\u001b[0;32m---> 35\u001b[0m t \u001b[38;5;241m=\u001b[39m \u001b[38;5;28;43mself\u001b[39;49m\u001b[38;5;241;43m.\u001b[39;49m\u001b[43mmodel\u001b[49m\u001b[38;5;241;43m.\u001b[39;49m\u001b[43mcurrent_step\u001b[49m \u001b[38;5;241m-\u001b[39m \u001b[38;5;28mself\u001b[39m\u001b[38;5;241m.\u001b[39minfection_time\n\u001b[1;32m     36\u001b[0m \u001b[38;5;28;01mif\u001b[39;00m \u001b[38;5;28mself\u001b[39m\u001b[38;5;241m.\u001b[39mrecovery_time \u001b[38;5;129;01mis\u001b[39;00m \u001b[38;5;129;01mnot\u001b[39;00m \u001b[38;5;28;01mNone\u001b[39;00m \u001b[38;5;129;01mand\u001b[39;00m t \u001b[38;5;241m>\u001b[39m\u001b[38;5;241m=\u001b[39m \u001b[38;5;28mself\u001b[39m\u001b[38;5;241m.\u001b[39mrecovery_time:\n\u001b[1;32m     37\u001b[0m     \u001b[38;5;28mself\u001b[39m\u001b[38;5;241m.\u001b[39mstate \u001b[38;5;241m=\u001b[39m State\u001b[38;5;241m.\u001b[39mREMOVED\n",
      "\u001b[0;31mAttributeError\u001b[0m: 'InfectionModel' object has no attribute 'current_step'"
     ]
    }
   ],
   "source": [
    "model = InfectionModel(pop,width,height, ptrans= 0.5)\n",
    "for _ in range(steps):\n",
    "    model.step()"
   ]
  }
 ],
 "metadata": {
  "kernelspec": {
   "display_name": "Python (swordfish)",
   "language": "python",
   "name": "swordfish"
  },
  "language_info": {
   "codemirror_mode": {
    "name": "ipython",
    "version": 3
   },
   "file_extension": ".py",
   "mimetype": "text/x-python",
   "name": "python",
   "nbconvert_exporter": "python",
   "pygments_lexer": "ipython3",
   "version": "3.9.21"
  }
 },
 "nbformat": 4,
 "nbformat_minor": 5
}
