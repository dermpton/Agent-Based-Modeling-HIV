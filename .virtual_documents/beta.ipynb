import time
import numpy as np
import pandas as pd


from enum import IntEnum
from mesa.agent import Agent
from mesa.model import Model
from mesa.time import RandomActivation
from mesa.space import MultiGrid
from mesa.datacollection import DataCollector


from bokeh.plotting import figure
from bokeh.models import ColumnDataSource, Legend, Line, HoverTool, LinearColorMapper
from bokeh.palettes import Category10
import panel as pn
pn.extension()


class State(IntEnum):
    SUSCEPTIBLE = 0
    INFECTED    = 1
    REMOVED     = 2



class MyAgent(Agent):
    '''An agent in the epidemic model.'''
    def __init__(self, unique_id, model):
        super().__init__(unique_id, model)
        self.age = max(0, self.random.normalvariate(20, 40))
        self.state = State.SUSCEPTIBLE
        self.infection_time = None
        self.recovery_time = None

    def step(self):
        if self.state == State.INFECTED:
            self._progress_disease()
            self._contact_infection()
        if self.state in (State.SUSCEPTIBLE, State.INFECTED):
            self._move()

    def _progress_disease(self):
        if self.random.random() < self.model.death_rate:
            self.state = State.REMOVED
            return

        elapsed = self.model.current_step - self.infection_time
        if self.recovery_time is not None and elapsed >= self.recovery_time:
            self.state = State.REMOVED

    def _move(self):
        neigh = self.model.grid.get_neighborhood(self.pos, moore=True, include_center= False)
        new_pos = self.random.choice(neigh)
        self.model.grid.move_agent(self, new_pos)

    def _contact_infection(self):
        cellmates = self.model.grid.get_cell_list_contents([self.pos])
        for other in cellmates:
            if other is self or other.state != State.SUSCEPTIBLE:
                continue
            if self.random.random() < self.model.ptrans:
                other.state = State.INFECTED
                other.infection_time = self.model.current_step
                other.recovery_time = self.model.get_recovery_time()


class InfectionModel(Model):
    '''Grid-based SIR model.'''
    def __init__(self, N = 100, width = 20, height = 20, ptrans = 0.5, death_rate = 0.02,
                 recovery_days = 21, recovery_sd = 7):
        super().__init__()
        self.num_agents = N
        self.grid = MultiGrid(width, height, True)
        self.schedule = RandomActivation(self)
        self.ptrans = ptrans
        self.death_rate = death_rate
        self.recovery_days = recovery_days
        self.recovery_sd = recovery_sd
        self.current_step = 0

        for i in range(self.num_agents):
            a = MyAgent(i, self)
            if self.random.random() < 0.02:
                a.state = State.INFECTED
                a.infection_time = 0
                a.recovery_time = self.get_recovery_time()
            self.schedule.add(a)
            x = self.random.randrange(self.grid.width)
            y = self.random.randrange(self.grid.height)
            self.grid.place_agent(a, (x, y))

        self.datacollector = DataCollector(agent_reporters={"State": "state"})

    def get_recovery_time(self):
        return max(1, int(self.random.normalvariate(self.recovery_days, self.recovery_sd)))

    def step(self):
        self.datacollector.collect(self)
        self.schedule.step()
        self.current_step += 1


def get_column_data(model):
    """
    Pivot the agent-level data into per-step counts of each state.
    Returns a DataFrame indexed by Step with columns ['Susceptible', 'Infected', 'Removed'].
    """
    df = model.datacollector.get_agent_vars_dataframe().reset_index()
    df['State'] = df['State'].astype(int)
    pivot = pd.pivot_table(
        df,
        index='Step',
        columns='State',
        values='AgentID',
        aggfunc='count',
        fill_value=0
    )
    label_map = {
        State.SUSCEPTIBLE.value: 'Susceptible',
        State.INFECTED.value:    'Infected',
        State.REMOVED.value:     'Removed'
    }
    pivot = pivot.rename(columns=label_map)
    return pivot[['Susceptible', 'Infected', 'Removed']]


def plot_states_bokeh(model, title=''):
    """Return a Bokeh figure of state counts over time."""
    X = get_column_data(model).reset_index()
    source = ColumnDataSource(X)
    colors = Category10[3]
    items = []
    p = figure(width=600, height=400, title=title,
               x_axis_label='Step', y_axis_label='Count')
    for i, state in enumerate(['Susceptible', 'Infected', 'Removed']):
        glyph = p.line('Step', state, source=source, line_width=3,
                       line_color=colors[i], alpha=0.8, legend_label=state)
    p.legend.location = 'top_right'
    p.background_fill_color = '#f5f5f5'
    p.toolbar.logo = None
    return p


def grid_values(model):
    """Return a DataFrame of grid cell "last" state codes."""
    w, h = model.grid.width, model.grid.height
    arr = np.zeros((w, h), dtype=int)
    for cell in model.grid.coord_iter():
        agents, x, y = cell
        # if multiple agents, take the last one's state
        arr[x, y] = agents[-1].state if agents else -1
    return pd.DataFrame(arr)


def plot_cells_bokeh(model):
    """Return a Bokeh figure of the grid cell states."""
    df = grid_values(model)
    stacked = df.stack().reset_index()
    stacked.columns = ['x', 'y', 'value']
    source = ColumnDataSource(stacked)

    mapper = LinearColorMapper(palette=Category10[3], low=0, high=2)
    p = figure(width=500, height=500, x_range=(-0.5, df.shape[0]-0.5),
               y_range=(-0.5, df.shape[1]-0.5), tools='hover')
    p.rect('x', 'y', 1, 1, source=source,
           fill_color={'field': 'value', 'transform': mapper},
           line_color='black')
    p.grid.grid_line_color = None
    p.axis.visible = False
    p.toolbar.logo = None
    return p


plot_pane = pn.pane.Bokeh()
grid_pane = pn.pane.Bokeh()
layout = pn.Row(plot_pane, grid_pane, sizing_mode='stretch_width')


duration = 100
population = 400


model = InfectionModel(population, 20, 20, ptrans=0.25, death_rate=0.01)


for step in range(duration):
    model.step()
    plot_pane.object = plot_states_bokeh(model, title=f"Step {step}")
    grid_pane.object = plot_cells_bokeh(model)
    time.sleep(0.1)

layout






