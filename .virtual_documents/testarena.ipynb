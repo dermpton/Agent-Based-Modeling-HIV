import time
import numpy as np
from enum import IntEnum
import pandas as pd
import collections
import pandas as pd
import pylab as plt  # Watch out here
from mesa.model import Model
from mesa.agent import Agent
from mesa.time import RandomActivation
from mesa.space import MultiGrid
from mesa.datacollection import DataCollector



class InfectionModel(Model):
    '''A model for infection spread.'''
    def __init__(self, N = 10, width = 10, height = 10, ptrans = 0.5, death_rate = 0.02, recovery_days = 21, recovery_sd = 7):
        self.num_agents = N
        self.recovery_days = recovery_days
        self.recovery_sd = recovery_sd
        self.ptrans = ptrans
        self.death_rate = death_rate
        self.grid = MultiGrid(width, height, True)
        self.schedule = RandomActivation(self)
        self.running = True
        self.dead_agents = []
        # Create agents
        for i in range(self.num_agents):
            a = MyAgent(i, self)
            self.schedule.add(a)
            # Add the agent to a random grid cell
            x = self.random.randrange(self.grid.width)
            y = self.random.randrange(self.grid.height)
            self.grid.place_agent(a, (x, y))
            # Make some agents infected at start
            infected = np.random.choice([0, 1], p = [0.98, 0.02])
            if infected == 1:
                a.state = State.INFECTED
                a.recovery_time = self.get_recovery_time()

        self.datacollector = DataCollector(
            agent_reporters={"State": "state"})

    def get_recovery_time(self):
        return int(self.random.normalvariate(self.recovery_days, self.recovery_sd))
    
    def step(self):
        self.datacollector.collect(self)
        self.schedule.step()
    


class State(IntEnum):
    SUSCEPTIBLE = 0
    INFECTED    = 1
    RECOVERED   = 2
    # DEAD        = 3


class MyAgent(Agent):
    '''An agent in an epidemic model.'''
    def __init__(self, unique_id, model):
        super().__init__(unique_id, model)
        # Draw age but avoid negatives
        age = self.random.normalvariate(20, 40)
        self.age = max(0, age)

        self.state = State.SUSCEPTIBLE
        self.infection_time = None
        self.recovery_time = None

    def step(self):
        if self.state == State.INFECTED:
            self._handle_disease_progression()
        if self.state == State.INFECTED:
            self.contact()     # only infected agents infect others
        if self.state in (State.SUSCEPTIBLE, State.INFECTED):
            self.move()        # dead/removed don’t move

    def _handle_disease_progression(self):
        # Chance of death
        if self.random.random() < self.model.death_rate:
            self.state = State.REMOVED  # or define a DEAD state
            return

        # Check recovery
        t = self.model.current_step - self.infection_time
        if self.recovery_time is not None and t >= self.recovery_time:
            self.state = State.REMOVED

    def move(self):
        '''Move the agent to a random neighboring cell.'''
        neighbors = self.model.grid.get_neighborhood(
            self.pos, moore=True, include_center=False
        )
        new_pos = self.random.choice(neighbors)
        self.model.grid.move_agent(self, new_pos)

    def contact(self):
        '''Attempt to infect susceptible neighbors in the same cell.'''
        cellmates = self.model.grid.get_cell_list_contents([self.pos])
        for other in cellmates:
            if other is self or other.state != State.SUSCEPTIBLE:
                continue
            if self.random.random() < self.model.ptrans:
                other.state = State.INFECTED
                other.infection_time = self.model.current_step
                other.recovery_time = self.model.get_recovery_time()



pop = 100 
width, height = 20, 20 
steps = 200


model = InfectionModel(pop,width,height, ptrans= 0.5)
for _ in range(steps):
    model.step()
